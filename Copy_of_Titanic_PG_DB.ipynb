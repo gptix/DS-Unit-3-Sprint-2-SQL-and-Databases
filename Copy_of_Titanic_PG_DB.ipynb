{
  "nbformat": 4,
  "nbformat_minor": 0,
  "metadata": {
    "colab": {
      "name": "Copy of Titanic PG DB.ipynb",
      "provenance": [],
      "collapsed_sections": [],
      "authorship_tag": "",
      "include_colab_link": true
    },
    "kernelspec": {
      "name": "python3",
      "display_name": "Python 3"
    }
  },
  "cells": [
    {
      "cell_type": "markdown",
      "metadata": {
        "id": "view-in-github",
        "colab_type": "text"
      },
      "source": [
        "<a href=\"https://colab.research.google.com/github/gptix/DS-Unit-3-Sprint-2-SQL-and-Databases/blob/master/Copy_of_Titanic_PG_DB.ipynb\" target=\"_parent\"><img src=\"https://colab.research.google.com/assets/colab-badge.svg\" alt=\"Open In Colab\"/></a>"
      ]
    },
    {
      "cell_type": "code",
      "metadata": {
        "id": "MoIuKnwXmIel",
        "colab_type": "code",
        "outputId": "eb422065-6159-445d-86a1-ed92babecb3f",
        "colab": {
          "base_uri": "https://localhost:8080/",
          "height": 128
        }
      },
      "source": [
        "# Connect to postgres server in cloud\n",
        "!pip install psycopg2-binary"
      ],
      "execution_count": 0,
      "outputs": [
        {
          "output_type": "stream",
          "text": [
            "Collecting psycopg2-binary\n",
            "\u001b[?25l  Downloading https://files.pythonhosted.org/packages/1e/c0/16303cef8d54fdcfae7be7880cf471f21449225687f61cc3be2a7ef4e6e5/psycopg2_binary-2.8.4-cp36-cp36m-manylinux1_x86_64.whl (2.9MB)\n",
            "\u001b[K     |████████████████████████████████| 2.9MB 2.4MB/s \n",
            "\u001b[?25hInstalling collected packages: psycopg2-binary\n",
            "Successfully installed psycopg2-binary-2.8.4\n"
          ],
          "name": "stdout"
        }
      ]
    },
    {
      "cell_type": "code",
      "metadata": {
        "id": "RxXrG1OJmyOm",
        "colab_type": "code",
        "outputId": "acb7b83c-a38a-42c1-92ad-c8ab5bac73b7",
        "colab": {
          "base_uri": "https://localhost:8080/",
          "height": 74
        }
      },
      "source": [
        "import psycopg2\n",
        "\n",
        "dbname = 'sjnmahbj'\n",
        "user = 'sjnmahbj'\n",
        "password = ''\n",
        "port = '5432'\n",
        "host = 'rajje.db.elephantsql.com' # port should be included by defult\n",
        "\n",
        "pg_conn = psycopg2.connect(dbname=dbname, user=user,\n",
        "                          password=password, host=host)\n",
        "# pg_conn"
      ],
      "execution_count": 0,
      "outputs": [
        {
          "output_type": "stream",
          "text": [
            "/usr/local/lib/python3.6/dist-packages/psycopg2/__init__.py:144: UserWarning: The psycopg2 wheel package will be renamed from release 2.8; in order to keep installing from binary please use \"pip install psycopg2-binary\" instead. For details see: <http://initd.org/psycopg/docs/install.html#binary-install-from-pypi>.\n",
            "  \"\"\")\n"
          ],
          "name": "stderr"
        }
      ]
    },
    {
      "cell_type": "code",
      "metadata": {
        "id": "pw9tjuB2hTuF",
        "colab_type": "code",
        "colab": {}
      },
      "source": [
        "# retrieve Titanic data file with pandas\n",
        "\n",
        "import pandas as pd\n",
        "\n",
        "# ingest CSV data\n",
        "titanic_url = 'https://raw.githubusercontent.com/gptix/DS-Unit-3-Sprint-2-SQL-and-Databases/master/module2-sql-for-analysis/titanic.csv'\n",
        "titanic_df = pd.read_csv(titanic_url)"
      ],
      "execution_count": 0,
      "outputs": []
    },
    {
      "cell_type": "code",
      "metadata": {
        "id": "1VhjVglHlUuQ",
        "colab_type": "code",
        "colab": {}
      },
      "source": [
        "# Clean data\n",
        "\n",
        "# titanic_df.head()\n",
        "# titanic_df[titanic_df.isna().any(axis=1)]\n",
        "# # None!\n",
        "# titanic_df[titanic_df.isna().any(axis=1)]\n",
        "# # None!\n",
        "# titanic_df.describe()"
      ],
      "execution_count": 0,
      "outputs": []
    },
    {
      "cell_type": "code",
      "metadata": {
        "id": "l0-UovERj8hd",
        "colab_type": "code",
        "colab": {}
      },
      "source": [
        "# clean data\n",
        "# titanic_df_cleaned = clean(titanic_df)"
      ],
      "execution_count": 0,
      "outputs": []
    },
    {
      "cell_type": "code",
      "metadata": {
        "id": "rlLE4PzDlaJv",
        "colab_type": "code",
        "outputId": "0b88f54c-86f2-4432-bea7-7539d266609d",
        "colab": {
          "base_uri": "https://localhost:8080/",
          "height": 163
        }
      },
      "source": [
        "titanic_df_cols = list(titanic_df.columns)\n",
        "titanic_df_cols"
      ],
      "execution_count": 0,
      "outputs": [
        {
          "output_type": "execute_result",
          "data": {
            "text/plain": [
              "['Survived',\n",
              " 'Pclass',\n",
              " 'Name',\n",
              " 'Sex',\n",
              " 'Age',\n",
              " 'Siblings/Spouses Aboard',\n",
              " 'Parents/Children Aboard',\n",
              " 'Fare']"
            ]
          },
          "metadata": {
            "tags": []
          },
          "execution_count": 4
        }
      ]
    },
    {
      "cell_type": "code",
      "metadata": {
        "id": "fR1J3MkBr06J",
        "colab_type": "code",
        "colab": {}
      },
      "source": [
        "create_enum_sex = \"\"\"\n",
        "CREATE TYPE SEX AS ENUM ('female', 'male');\n",
        "\"\"\"\n",
        "pg_conn = psycopg2.connect(dbname=dbname, user=user,\n",
        "                          password=password, host=host)\n",
        "pg_curs = pg_conn.cursor()\n",
        "# pg_curs\n",
        "pg_curs.execute(create_enum_sex)\n",
        "pg_conn.commit()"
      ],
      "execution_count": 0,
      "outputs": []
    },
    {
      "cell_type": "code",
      "metadata": {
        "id": "CB5KHSUQnr-F",
        "colab_type": "code",
        "colab": {}
      },
      "source": [
        "# Create table in Postgres db\n",
        "\n",
        "# Column names from CSV file\n",
        "# ['Survived',\n",
        "#  'Pclass',\n",
        "#  'Name',\n",
        "#  'Sex',\n",
        "#  'Age',\n",
        "#  'Siblings/Spouses Aboard',\n",
        "#  'Parents/Children Aboard',\n",
        "#  'Fare']\n",
        "\n",
        "create_titanic_table_SQL = \"\"\"\n",
        "CREATE TABLE titanic (\n",
        "  id                      SERIAL PRIMARY KEY,\n",
        "  Survived                BOOLEAN NOT NULL,\n",
        "  Pclass                  INT NOT NULL,\n",
        "  Name                    VARCHAR(50),\n",
        "  Sex                     SEX,\n",
        "  Age                     INT NOT NULL,\n",
        "  Siblings_Spouses_Aboard INT NOT NULL,\n",
        "  Parents_Children_Aboard INT NOT NULL,\n",
        "  Fare                    REAL NOT NULL  \n",
        ");\"\"\"\n",
        "# print(create_titanic_table_SQL)\n",
        "\n",
        "pg_conn = psycopg2.connect(dbname=dbname, user=user,\n",
        "                          password=password, host=host)\n",
        "pg_curs = pg_conn.cursor()\n",
        "# pg_curs\n",
        "pg_curs.execute(create_titanic_table_SQL)\n",
        "pg_conn.commit()"
      ],
      "execution_count": 0,
      "outputs": []
    },
    {
      "cell_type": "code",
      "metadata": {
        "id": "jg5jdx9E17SG",
        "colab_type": "code",
        "colab": {}
      },
      "source": [
        "titanic_csv = titanic_df.to_csv()\n",
        "# print(titanic_csv)"
      ],
      "execution_count": 0,
      "outputs": []
    },
    {
      "cell_type": "code",
      "metadata": {
        "id": "2yjx4__2s97u",
        "colab_type": "code",
        "outputId": "e0860427-55bc-4af9-b46e-fd0936c9eb2e",
        "colab": {
          "base_uri": "https://localhost:8080/",
          "height": 35
        }
      },
      "source": [
        "# one_row = titanic_df.iloc[0]\n",
        "one_row\n",
        "\n",
        "def make_insert_row(row):\n",
        "  s = \"place \"\n",
        "  for col in titanic_df_cols:\n",
        "    s = s + str(row[col]) + \"   \"\n",
        "  return s\n",
        "\n",
        "make_insert_row(one_row)"
      ],
      "execution_count": 0,
      "outputs": [
        {
          "output_type": "execute_result",
          "data": {
            "text/plain": [
              "'place 0   3   Mr. Owen Harris Braund   male   22.0   1   0   7.25   '"
            ]
          },
          "metadata": {
            "tags": []
          },
          "execution_count": 46
        }
      ]
    },
    {
      "cell_type": "code",
      "metadata": {
        "id": "XzkG_J84vcPK",
        "colab_type": "code",
        "outputId": "61a9019c-1041-4081-9150-663c036239cf",
        "colab": {
          "base_uri": "https://localhost:8080/",
          "height": 72
        }
      },
      "source": [
        "col_list = \"id, Survived, Pclass, Name, Sex, Age, Siblings_Spouses_Aboard, Parents_Children_Aboard, Fare\"\n",
        "table_name = \"titanic\"\n",
        "\n",
        "insert_statement = \"INSERT INTO \" + table_name + \" (\" + \\\n",
        "  col_list + \"\"\") \n",
        "    VALUES\n",
        "  \"\"\" + \"values\" + \");\"\n",
        "\n",
        "print(insert_statement)"
      ],
      "execution_count": 0,
      "outputs": [
        {
          "output_type": "stream",
          "text": [
            "INSERT INTO titanic (id, Survived, Pclass, Name, Sex, Age, Siblings_Spouses_Aboard, Parents_Children_Aboard, Fare) \n",
            "    VALUES\n",
            "  values);\n"
          ],
          "name": "stdout"
        }
      ]
    },
    {
      "cell_type": "code",
      "metadata": {
        "id": "59TQYrdGjS7s",
        "colab_type": "code",
        "colab": {}
      },
      "source": [
        "# populate table\n",
        "# create SQL to import data\n",
        "# execute SQL tro import data\n",
        "\n",
        "# define import SQL\n",
        "import_sql = foo"
      ],
      "execution_count": 0,
      "outputs": []
    }
  ]
}
